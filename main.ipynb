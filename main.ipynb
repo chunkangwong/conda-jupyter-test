{
 "cells": [
  {
   "cell_type": "code",
   "execution_count": 1,
   "id": "7086727d-b958-4993-8cf1-0a239bb071d4",
   "metadata": {},
   "outputs": [],
   "source": [
    "from selenium import webdriver\n",
    "from selenium.webdriver.chrome.options import Options\n",
    "from selenium.webdriver.common.by import By"
   ]
  },
  {
   "cell_type": "code",
   "execution_count": 13,
   "id": "8bfbf53b-bfe3-441d-91a4-bd19067fac4a",
   "metadata": {},
   "outputs": [],
   "source": [
    "chrome_options = Options()\n",
    "chrome_options.add_experimental_option(\"debuggerAddress\", \"127.0.0.1:9222\")\n",
    "driver = webdriver.Chrome(options=chrome_options)"
   ]
  },
  {
   "cell_type": "code",
   "execution_count": 9,
   "id": "838cba63-abb8-49dd-865b-6c4620cf82fa",
   "metadata": {},
   "outputs": [
    {
     "data": {
      "text/plain": [
       "'Explore - Study - APICS'"
      ]
     },
     "execution_count": 9,
     "metadata": {},
     "output_type": "execute_result"
    }
   ],
   "source": [
    "driver.title"
   ]
  },
  {
   "cell_type": "code",
   "execution_count": 41,
   "id": "70e68000-7e7f-4f73-9d69-9600300f2a66",
   "metadata": {},
   "outputs": [],
   "source": [
    "question_class = \"._2sv26PNy\"\n",
    "rationale_class = \"._258b_SOg p\"\n",
    "answers_class = \"fieldset ._2GF7gJr9\"\n",
    "question_id_class = \"._1xYxGLT9\"\n",
    "progress_class = \"._25ux-wEX\"\n"
   ]
  },
  {
   "cell_type": "code",
   "execution_count": 42,
   "id": "5021397a",
   "metadata": {},
   "outputs": [],
   "source": [
    "question = driver.find_element(By.CSS_SELECTOR, question_class).text\n",
    "rationale = driver.find_element(By.CSS_SELECTOR, rationale_class).text\n",
    "answer_elems = driver.find_elements(By.CSS_SELECTOR, answers_class)\n",
    "question_id = driver.find_element(By.CSS_SELECTOR, question_id_class).text.split(\" \")[1]\n",
    "progress_class_elem = driver.find_element(By.CSS_SELECTOR, progress_class)\n"
   ]
  },
  {
   "cell_type": "code",
   "execution_count": 17,
   "id": "cdbc4c4e",
   "metadata": {},
   "outputs": [
    {
     "data": {
      "text/plain": [
       "'A design engineering group has dismantled a new product from another supplier. This is an example of:'"
      ]
     },
     "execution_count": 17,
     "metadata": {},
     "output_type": "execute_result"
    }
   ],
   "source": [
    "question"
   ]
  },
  {
   "cell_type": "code",
   "execution_count": 18,
   "id": "0d0da09c",
   "metadata": {},
   "outputs": [
    {
     "data": {
      "text/plain": [
       "'Performing a competitive analysis of a competitor or its products allows a company to understand the competitor’s strategies, capabilities, prices, and costs.'"
      ]
     },
     "execution_count": 18,
     "metadata": {},
     "output_type": "execute_result"
    }
   ],
   "source": [
    "rationale"
   ]
  },
  {
   "cell_type": "code",
   "execution_count": 19,
   "id": "8be781df",
   "metadata": {},
   "outputs": [
    {
     "data": {
      "text/plain": [
       "[<selenium.webdriver.remote.webelement.WebElement (session=\"457c0b4b66d4331eb7fc4d1b310bdcec\", element=\"f.1736A02F914CF634EC8A1BF04EA8CD78.d.78190C60F5C9AA92EC4991554BB1649D.e.939\")>,\n",
       " <selenium.webdriver.remote.webelement.WebElement (session=\"457c0b4b66d4331eb7fc4d1b310bdcec\", element=\"f.1736A02F914CF634EC8A1BF04EA8CD78.d.78190C60F5C9AA92EC4991554BB1649D.e.949\")>,\n",
       " <selenium.webdriver.remote.webelement.WebElement (session=\"457c0b4b66d4331eb7fc4d1b310bdcec\", element=\"f.1736A02F914CF634EC8A1BF04EA8CD78.d.78190C60F5C9AA92EC4991554BB1649D.e.959\")>,\n",
       " <selenium.webdriver.remote.webelement.WebElement (session=\"457c0b4b66d4331eb7fc4d1b310bdcec\", element=\"f.1736A02F914CF634EC8A1BF04EA8CD78.d.78190C60F5C9AA92EC4991554BB1649D.e.974\")>]"
      ]
     },
     "execution_count": 19,
     "metadata": {},
     "output_type": "execute_result"
    }
   ],
   "source": [
    "answer_elems"
   ]
  },
  {
   "cell_type": "code",
   "execution_count": 20,
   "id": "465bb9ae",
   "metadata": {},
   "outputs": [
    {
     "data": {
      "text/plain": [
       "'cpim1904'"
      ]
     },
     "execution_count": 20,
     "metadata": {},
     "output_type": "execute_result"
    }
   ],
   "source": [
    "question_id"
   ]
  },
  {
   "cell_type": "code",
   "execution_count": 21,
   "id": "7a70639f",
   "metadata": {},
   "outputs": [
    {
     "data": {
      "text/plain": [
       "<selenium.webdriver.remote.webelement.WebElement (session=\"457c0b4b66d4331eb7fc4d1b310bdcec\", element=\"f.1736A02F914CF634EC8A1BF04EA8CD78.d.78190C60F5C9AA92EC4991554BB1649D.e.927\")>"
      ]
     },
     "execution_count": 21,
     "metadata": {},
     "output_type": "execute_result"
    }
   ],
   "source": [
    "progress_class_elem"
   ]
  },
  {
   "cell_type": "code",
   "execution_count": 28,
   "id": "d6b00581",
   "metadata": {},
   "outputs": [],
   "source": [
    "def go_next_question():\n",
    "    button_elems = driver.find_elements(By.CSS_SELECTOR, \".lo-7FUSc ._1akKA3CB\")\n",
    "    for button_elem in button_elems:\n",
    "        if button_elem.text == \"Next Question\":\n",
    "            button_elem.click()\n",
    "            return True\n",
    "    return False"
   ]
  },
  {
   "cell_type": "code",
   "execution_count": 40,
   "id": "acb33460",
   "metadata": {},
   "outputs": [
    {
     "data": {
      "text/plain": [
       "['By providing accurate efficiency and utilization factors for work centers',\n",
       " 'By achieving on-time start and completion dates for production orders',\n",
       " 'By maintaining bottleneck flexibility through utilizations of at least 85%',\n",
       " 'By identifying alternate routings if the primary routing is unavailable']"
      ]
     },
     "execution_count": 40,
     "metadata": {},
     "output_type": "execute_result"
    }
   ],
   "source": [
    "answers = [elem.text for elem in answer_elems]\n",
    "answers"
   ]
  },
  {
   "cell_type": "code",
   "execution_count": null,
   "id": "2d5ce035",
   "metadata": {},
   "outputs": [],
   "source": []
  }
 ],
 "metadata": {
  "kernelspec": {
   "display_name": "venv",
   "language": "python",
   "name": "python3"
  },
  "language_info": {
   "codemirror_mode": {
    "name": "ipython",
    "version": 3
   },
   "file_extension": ".py",
   "mimetype": "text/x-python",
   "name": "python",
   "nbconvert_exporter": "python",
   "pygments_lexer": "ipython3",
   "version": "3.12.3"
  }
 },
 "nbformat": 4,
 "nbformat_minor": 5
}
